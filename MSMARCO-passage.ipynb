{
 "cells": [
  {
   "cell_type": "markdown",
   "metadata": {},
   "source": [
    "# BERTQE Integation with PyTerrier\n",
    "\n",
    "Craig Macdonald, University of Glasgow\n",
    "21/12/120"
   ]
  },
  {
   "cell_type": "code",
   "execution_count": 1,
   "metadata": {
    "execution": {
     "iopub.execute_input": "2020-12-21T23:29:59.558654Z",
     "iopub.status.busy": "2020-12-21T23:29:59.558013Z",
     "iopub.status.idle": "2020-12-21T23:29:59.563590Z",
     "shell.execute_reply": "2020-12-21T23:29:59.562343Z",
     "shell.execute_reply.started": "2020-12-21T23:29:59.558403Z"
    }
   },
   "outputs": [],
   "source": [
    "#!conda install -y numpy\n",
    "#!pip install --force-reinstall -r requirements.txt"
   ]
  },
  {
   "cell_type": "code",
   "execution_count": 2,
   "metadata": {
    "execution": {
     "iopub.execute_input": "2020-12-21T23:29:59.566174Z",
     "iopub.status.busy": "2020-12-21T23:29:59.565598Z",
     "iopub.status.idle": "2020-12-21T23:30:03.399288Z",
     "shell.execute_reply": "2020-12-21T23:30:03.398425Z",
     "shell.execute_reply.started": "2020-12-21T23:29:59.565964Z"
    }
   },
   "outputs": [
    {
     "data": {
      "text/plain": [
       "True"
      ]
     },
     "execution_count": 2,
     "metadata": {},
     "output_type": "execute_result"
    }
   ],
   "source": [
    "#this suppresses the various Tensorflow INFO messages.\n",
    "import os\n",
    "os.environ['TF_CPP_MIN_LOG_LEVEL'] = '3'\n",
    "\n",
    "import warnings\n",
    "warnings.filterwarnings(\"ignore\", message=r\"Passing\", category=FutureWarning)\n",
    "\n",
    "import tensorflow as tf\n",
    "# more work at suppressing logging messages\n",
    "tf.get_logger().setLevel('WARN')\n",
    "\n",
    "# finally, check the GPU is activated\n",
    "tf.test.is_gpu_available()"
   ]
  },
  {
   "cell_type": "markdown",
   "metadata": {},
   "source": [
    "## PyTerrier setup\n",
    "\n",
    "This code block assumes that:\n",
    " - you have PyTerrier installed, \n",
    " - you have an index of the MSMARCO passage ranking dataset with text metadata. See the [PyTerrier indexing documentation](https://pyterrier.readthedocs.io/en/latest/modules/terrier-indexing.html) for how to create this\n",
    "\n",
    "We thereafter load the index, and setup a DPH retrieval transformer."
   ]
  },
  {
   "cell_type": "code",
   "execution_count": 3,
   "metadata": {
    "execution": {
     "iopub.execute_input": "2020-12-21T23:30:03.401200Z",
     "iopub.status.busy": "2020-12-21T23:30:03.400939Z",
     "iopub.status.idle": "2020-12-21T23:30:06.335360Z",
     "shell.execute_reply": "2020-12-21T23:30:06.334568Z",
     "shell.execute_reply.started": "2020-12-21T23:30:03.401154Z"
    }
   },
   "outputs": [
    {
     "name": "stdout",
     "output_type": "stream",
     "text": [
      "23:30:06.287 [main] WARN  o.t.structures.CompressingMetaIndex - Structure meta reading data file directly from disk (SLOW) - try index.meta.data-source=fileinmem in the index properties file. 2.2 GiB of memory would be required.\n"
     ]
    }
   ],
   "source": [
    "import pyterrier as pt\n",
    "if not pt.started():\n",
    "    pt.init(tqdm='notebook')\n",
    "dataset = pt.get_dataset(\"trec-deep-learning-passages\")\n",
    "index = pt.IndexFactory.of(\"/users/tr.craigm/projects/trec2020/passage_index/data.properties\")\n",
    "\n",
    "DPH = pt.BatchRetrieve(index, wmodel=\"DPH\", metadata=[\"docno\", \"text\"], num_results=10, verbose=True)\n"
   ]
  },
  {
   "cell_type": "markdown",
   "metadata": {},
   "source": [
    "## Loading our custom transformer\n",
    "\n",
    "We implement a PyTerrier transformer class to perform the integration with PyTerrier In particular, the BERTQE class extends TransformerBase, and is defined in pyt_bertqe.py. It borrows code from expansion_inference.py and functions.py\n",
    "\n",
    "To instantiate it, we provide:\n",
    " - the location of our BERT configuration (we used BERT-base)\n",
    " - the location of the checkpoint provided by the original authors of BERT-QE (we used Robust04 Fold 1 for Bert-base).\n",
    "\n",
    "Once fully instantiated, the last output of the call below should be `BERTQE Ready`."
   ]
  },
  {
   "cell_type": "code",
   "execution_count": 4,
   "metadata": {
    "execution": {
     "iopub.execute_input": "2020-12-21T23:30:06.337078Z",
     "iopub.status.busy": "2020-12-21T23:30:06.336759Z",
     "iopub.status.idle": "2020-12-21T23:30:07.832203Z",
     "shell.execute_reply": "2020-12-21T23:30:07.831497Z",
     "shell.execute_reply.started": "2020-12-21T23:30:06.336971Z"
    },
    "tags": []
   },
   "outputs": [
    {
     "name": "stdout",
     "output_type": "stream",
     "text": [
      "WARNING:tensorflow:From /users/tr.craigm/projects/pyterrier/BERT-QE/bert/optimization.py:90: The name tf.train.Optimizer is deprecated. Please use tf.compat.v1.train.Optimizer instead.\n",
      "\n",
      "WARNING:tensorflow:From /users/tr.craigm/projects/pyterrier/BERT-QE/bert/modeling.py:92: The name tf.gfile.GFile is deprecated. Please use tf.io.gfile.GFile instead.\n",
      "\n",
      "WARNING:tensorflow:\n",
      "The TensorFlow contrib module will not be included in TensorFlow 2.0.\n",
      "For more information, please see:\n",
      "  * https://github.com/tensorflow/community/blob/master/rfcs/20180907-contrib-sunset.md\n",
      "  * https://github.com/tensorflow/addons\n",
      "  * https://github.com/tensorflow/io (for I/O related ops)\n",
      "If you depend on functionality not listed there, please file an issue.\n",
      "\n",
      "WARNING:tensorflow:Using temporary folder as model directory: /tmp/tmp3egr3ind\n",
      "WARNING:tensorflow:eval_on_tpu ignored because use_tpu is False.\n",
      "BERTQE Ready\n"
     ]
    }
   ],
   "source": [
    "from pyt_bertqe import BERTQE\n",
    "bqe = BERTQE(\n",
    "    \"/users/tr.craigm/projects/pyterrier/BERT-QE/robust04_base/bert_config.json\", \n",
    "    \"/users/tr.craigm/projects/pyterrier/BERT-QE/robust04_base/Fold1/model.ckpt-9375\",\n",
    "    verbose=True)\n"
   ]
  },
  {
   "cell_type": "markdown",
   "metadata": {},
   "source": [
    "# Testing the transformer.\n",
    "\n",
    "Lets see if it works. We're going to give one query (`chemical reactions`) and the text of two documents. One documents is clealy more related to the query than the other, despite both documents having the same document lengths, and each matching only one query term.\n",
    "\n",
    "The output should be a ranking where, hopefully, d1 gets a higher score than d2.\n",
    "\n",
    "Note that compared to the original BERT QE code, there is no need to encode passages into files etc before running the QE phase."
   ]
  },
  {
   "cell_type": "code",
   "execution_count": 5,
   "metadata": {
    "execution": {
     "iopub.execute_input": "2020-12-21T23:30:07.833631Z",
     "iopub.status.busy": "2020-12-21T23:30:07.833298Z",
     "iopub.status.idle": "2020-12-21T23:30:14.188406Z",
     "shell.execute_reply": "2020-12-21T23:30:14.187790Z",
     "shell.execute_reply.started": "2020-12-21T23:30:07.833502Z"
    },
    "tags": [
     "outputPrepend"
    ]
   },
   "outputs": [
    {
     "data": {
      "application/vnd.jupyter.widget-view+json": {
       "model_id": "e1d6c22d47994a4aa2f33aa87eb20950",
       "version_major": 2,
       "version_minor": 0
      },
      "text/plain": [
       "HBox(children=(FloatProgress(value=0.0, description='BERTQE', max=1.0, style=ProgressStyle(description_width='…"
      ]
     },
     "metadata": {},
     "output_type": "display_data"
    },
    {
     "name": "stdout",
     "output_type": "stream",
     "text": [
      "WARNING:tensorflow:From /users/tr.craigm/projects/pyterrier/BERT-QE/pyt_bertqe.py:70: The name tf.FixedLenSequenceFeature is deprecated. Please use tf.io.FixedLenSequenceFeature instead.\n",
      "\n",
      "WARNING:tensorflow:From /users/tr.craigm/projects/pyterrier/BERT-QE/pyt_bertqe.py:74: The name tf.FixedLenFeature is deprecated. Please use tf.io.FixedLenFeature instead.\n",
      "\n",
      "WARNING:tensorflow:From /users/tr.craigm/projects/pyterrier/BERT-QE/functions.py:52: The name tf.logging.info is deprecated. Please use tf.compat.v1.logging.info instead.\n",
      "\n",
      "WARNING:tensorflow:From /users/tr.craigm/projects/pyterrier/BERT-QE/bert/modeling.py:172: The name tf.variable_scope is deprecated. Please use tf.compat.v1.variable_scope instead.\n",
      "\n",
      "WARNING:tensorflow:From /users/tr.craigm/projects/pyterrier/BERT-QE/bert/modeling.py:411: The name tf.get_variable is deprecated. Please use tf.compat.v1.get_variable instead.\n",
      "\n",
      "WARNING:tensorflow:From /users/tr.craigm/projects/pyterrier/BERT-QE/bert/modeling.py:680: dense (from tensorflow.python.layers.core) is deprecated and will be removed in a future version.\n",
      "Instructions for updating:\n",
      "Use keras.layers.dense instead.\n",
      "WARNING:tensorflow:From /users/tr.craigm/anaconda3/envs/pyterrier/lib/python3.6/site-packages/tensorflow/python/autograph/converters/directives.py:117: The name tf.erf is deprecated. Please use tf.math.erf instead.\n",
      "\n",
      "WARNING:tensorflow:From /users/tr.craigm/anaconda3/envs/pyterrier/lib/python3.6/site-packages/tensorflow/python/ops/array_ops.py:1354: add_dispatch_support.<locals>.wrapper (from tensorflow.python.ops.array_ops) is deprecated and will be removed in a future version.\n",
      "Instructions for updating:\n",
      "Use tf.where in 2.0, which has the same broadcast rule as np.where\n",
      "WARNING:tensorflow:From /users/tr.craigm/anaconda3/envs/pyterrier/lib/python3.6/site-packages/tensorflow/python/training/saver.py:1276: checkpoint_exists (from tensorflow.python.training.checkpoint_management) is deprecated and will be removed in a future version.\n",
      "Instructions for updating:\n",
      "Use standard file APIs to check for files with this prefix.\n",
      "\n"
     ]
    },
    {
     "data": {
      "text/html": [
       "<div>\n",
       "<style scoped>\n",
       "    .dataframe tbody tr th:only-of-type {\n",
       "        vertical-align: middle;\n",
       "    }\n",
       "\n",
       "    .dataframe tbody tr th {\n",
       "        vertical-align: top;\n",
       "    }\n",
       "\n",
       "    .dataframe thead th {\n",
       "        text-align: right;\n",
       "    }\n",
       "</style>\n",
       "<table border=\"1\" class=\"dataframe\">\n",
       "  <thead>\n",
       "    <tr style=\"text-align: right;\">\n",
       "      <th></th>\n",
       "      <th>qid</th>\n",
       "      <th>query</th>\n",
       "      <th>docno</th>\n",
       "      <th>score</th>\n",
       "      <th>rank</th>\n",
       "    </tr>\n",
       "  </thead>\n",
       "  <tbody>\n",
       "    <tr>\n",
       "      <th>0</th>\n",
       "      <td>q1</td>\n",
       "      <td>chemical reactions</td>\n",
       "      <td>d1</td>\n",
       "      <td>0.092511</td>\n",
       "      <td>0</td>\n",
       "    </tr>\n",
       "    <tr>\n",
       "      <th>1</th>\n",
       "      <td>q1</td>\n",
       "      <td>chemical reactions</td>\n",
       "      <td>d2</td>\n",
       "      <td>0.066370</td>\n",
       "      <td>1</td>\n",
       "    </tr>\n",
       "  </tbody>\n",
       "</table>\n",
       "</div>"
      ],
      "text/plain": [
       "  qid               query docno     score  rank\n",
       "0  q1  chemical reactions    d1  0.092511     0\n",
       "1  q1  chemical reactions    d2  0.066370     1"
      ]
     },
     "execution_count": 5,
     "metadata": {},
     "output_type": "execute_result"
    }
   ],
   "source": [
    "import pandas as pd\n",
    "df = pd.DataFrame([\n",
    "        [\"q1\", \"chemical reactions\", \"d1\", \"profossor proton demonstrated the chemical reaction\"], \n",
    "        [\"q1\", \"chemical reactions\", \"d2\", \"the chemical brothers started their gig\"]\\\n",
    "    ], columns=[\"qid\", \"query\", \"docno\", \"text\"])\n",
    "\n",
    "\n",
    "bqe.transform(df)"
   ]
  },
  {
   "cell_type": "markdown",
   "metadata": {},
   "source": [
    "This example looks good - d1 gets a higher score than d2!"
   ]
  },
  {
   "cell_type": "markdown",
   "metadata": {},
   "source": [
    "## PyTerrier Ranking Integration\n",
    "\n",
    "Now lets formulate a ranking pipeline using the output of DPH for re-ranking by BERT QE."
   ]
  },
  {
   "cell_type": "code",
   "execution_count": 6,
   "metadata": {
    "execution": {
     "iopub.execute_input": "2020-12-21T23:30:14.189642Z",
     "iopub.status.busy": "2020-12-21T23:30:14.189451Z",
     "iopub.status.idle": "2020-12-21T23:30:14.192946Z",
     "shell.execute_reply": "2020-12-21T23:30:14.192254Z",
     "shell.execute_reply.started": "2020-12-21T23:30:14.189608Z"
    }
   },
   "outputs": [],
   "source": [
    "pipe1 = DPH >> bqe"
   ]
  },
  {
   "cell_type": "markdown",
   "metadata": {},
   "source": [
    "Lets try to execute that piptline on the first TREC DL Passage ranking topics.\n",
    "\n",
    "The output should be a ranking of passages for that query, as scored by BERT QE. You can also see how the order differs from that provided by DPH."
   ]
  },
  {
   "cell_type": "code",
   "execution_count": 7,
   "metadata": {
    "execution": {
     "iopub.execute_input": "2020-12-21T23:30:14.194243Z",
     "iopub.status.busy": "2020-12-21T23:30:14.194009Z",
     "iopub.status.idle": "2020-12-21T23:30:20.205297Z",
     "shell.execute_reply": "2020-12-21T23:30:20.204399Z",
     "shell.execute_reply.started": "2020-12-21T23:30:14.194209Z"
    }
   },
   "outputs": [
    {
     "name": "stdout",
     "output_type": "stream",
     "text": [
      "23:30:14.212 [main] WARN  o.t.a.batchquerying.TRECQuery - trec.encoding is not set; resorting to platform default (ISO-8859-1). Retrieval may be platform dependent. Recommend trec.encoding=UTF-8\n"
     ]
    },
    {
     "data": {
      "application/vnd.jupyter.widget-view+json": {
       "model_id": "e03e876c23c44556b8c60be340dde306",
       "version_major": 2,
       "version_minor": 0
      },
      "text/plain": [
       "HBox(children=(FloatProgress(value=0.0, description='BR(DPH)', max=1.0, style=ProgressStyle(description_width=…"
      ]
     },
     "metadata": {},
     "output_type": "display_data"
    },
    {
     "name": "stdout",
     "output_type": "stream",
     "text": [
      "\n"
     ]
    },
    {
     "data": {
      "application/vnd.jupyter.widget-view+json": {
       "model_id": "027b61d7abf94a8eba8adca6ff8e94f9",
       "version_major": 2,
       "version_minor": 0
      },
      "text/plain": [
       "HBox(children=(FloatProgress(value=0.0, description='BERTQE', max=1.0, style=ProgressStyle(description_width='…"
      ]
     },
     "metadata": {},
     "output_type": "display_data"
    },
    {
     "name": "stdout",
     "output_type": "stream",
     "text": [
      "\n"
     ]
    },
    {
     "data": {
      "text/html": [
       "<div>\n",
       "<style scoped>\n",
       "    .dataframe tbody tr th:only-of-type {\n",
       "        vertical-align: middle;\n",
       "    }\n",
       "\n",
       "    .dataframe tbody tr th {\n",
       "        vertical-align: top;\n",
       "    }\n",
       "\n",
       "    .dataframe thead th {\n",
       "        text-align: right;\n",
       "    }\n",
       "</style>\n",
       "<table border=\"1\" class=\"dataframe\">\n",
       "  <thead>\n",
       "    <tr style=\"text-align: right;\">\n",
       "      <th></th>\n",
       "      <th>qid</th>\n",
       "      <th>query</th>\n",
       "      <th>docno</th>\n",
       "      <th>score</th>\n",
       "      <th>rank</th>\n",
       "    </tr>\n",
       "  </thead>\n",
       "  <tbody>\n",
       "    <tr>\n",
       "      <th>0</th>\n",
       "      <td>1108939</td>\n",
       "      <td>what slows down the flow of blood</td>\n",
       "      <td>3652655</td>\n",
       "      <td>0.081384</td>\n",
       "      <td>9</td>\n",
       "    </tr>\n",
       "    <tr>\n",
       "      <th>1</th>\n",
       "      <td>1108939</td>\n",
       "      <td>what slows down the flow of blood</td>\n",
       "      <td>4744533</td>\n",
       "      <td>0.090464</td>\n",
       "      <td>0</td>\n",
       "    </tr>\n",
       "    <tr>\n",
       "      <th>2</th>\n",
       "      <td>1108939</td>\n",
       "      <td>what slows down the flow of blood</td>\n",
       "      <td>6707713</td>\n",
       "      <td>0.085161</td>\n",
       "      <td>7</td>\n",
       "    </tr>\n",
       "    <tr>\n",
       "      <th>3</th>\n",
       "      <td>1108939</td>\n",
       "      <td>what slows down the flow of blood</td>\n",
       "      <td>7152561</td>\n",
       "      <td>0.090107</td>\n",
       "      <td>1</td>\n",
       "    </tr>\n",
       "    <tr>\n",
       "      <th>4</th>\n",
       "      <td>1108939</td>\n",
       "      <td>what slows down the flow of blood</td>\n",
       "      <td>4069373</td>\n",
       "      <td>0.086065</td>\n",
       "      <td>6</td>\n",
       "    </tr>\n",
       "    <tr>\n",
       "      <th>5</th>\n",
       "      <td>1108939</td>\n",
       "      <td>what slows down the flow of blood</td>\n",
       "      <td>5992241</td>\n",
       "      <td>0.087156</td>\n",
       "      <td>4</td>\n",
       "    </tr>\n",
       "    <tr>\n",
       "      <th>6</th>\n",
       "      <td>1108939</td>\n",
       "      <td>what slows down the flow of blood</td>\n",
       "      <td>841975</td>\n",
       "      <td>0.087522</td>\n",
       "      <td>3</td>\n",
       "    </tr>\n",
       "    <tr>\n",
       "      <th>7</th>\n",
       "      <td>1108939</td>\n",
       "      <td>what slows down the flow of blood</td>\n",
       "      <td>6041119</td>\n",
       "      <td>0.084110</td>\n",
       "      <td>8</td>\n",
       "    </tr>\n",
       "    <tr>\n",
       "      <th>8</th>\n",
       "      <td>1108939</td>\n",
       "      <td>what slows down the flow of blood</td>\n",
       "      <td>130390</td>\n",
       "      <td>0.088443</td>\n",
       "      <td>2</td>\n",
       "    </tr>\n",
       "    <tr>\n",
       "      <th>9</th>\n",
       "      <td>1108939</td>\n",
       "      <td>what slows down the flow of blood</td>\n",
       "      <td>6959553</td>\n",
       "      <td>0.086724</td>\n",
       "      <td>5</td>\n",
       "    </tr>\n",
       "  </tbody>\n",
       "</table>\n",
       "</div>"
      ],
      "text/plain": [
       "       qid                              query    docno     score  rank\n",
       "0  1108939  what slows down the flow of blood  3652655  0.081384     9\n",
       "1  1108939  what slows down the flow of blood  4744533  0.090464     0\n",
       "2  1108939  what slows down the flow of blood  6707713  0.085161     7\n",
       "3  1108939  what slows down the flow of blood  7152561  0.090107     1\n",
       "4  1108939  what slows down the flow of blood  4069373  0.086065     6\n",
       "5  1108939  what slows down the flow of blood  5992241  0.087156     4\n",
       "6  1108939  what slows down the flow of blood   841975  0.087522     3\n",
       "7  1108939  what slows down the flow of blood  6041119  0.084110     8\n",
       "8  1108939  what slows down the flow of blood   130390  0.088443     2\n",
       "9  1108939  what slows down the flow of blood  6959553  0.086724     5"
      ]
     },
     "execution_count": 7,
     "metadata": {},
     "output_type": "execute_result"
    }
   ],
   "source": [
    "pipe1(dataset.get_topics(\"test-2019\").head(1))"
   ]
  },
  {
   "cell_type": "markdown",
   "metadata": {},
   "source": [
    "## PyTerrier Experiment\n",
    "\n",
    "Now lets conduct an experiment - we want to compare the effectiveness of BERT QE with DPH, on the passage ranking topics."
   ]
  },
  {
   "cell_type": "code",
   "execution_count": 8,
   "metadata": {
    "execution": {
     "iopub.execute_input": "2020-12-21T23:30:20.206653Z",
     "iopub.status.busy": "2020-12-21T23:30:20.206336Z",
     "iopub.status.idle": "2020-12-21T23:33:58.214931Z",
     "shell.execute_reply": "2020-12-21T23:33:58.214253Z",
     "shell.execute_reply.started": "2020-12-21T23:30:20.206538Z"
    }
   },
   "outputs": [
    {
     "name": "stdout",
     "output_type": "stream",
     "text": [
      "23:30:20.209 [main] WARN  o.t.a.batchquerying.TRECQuery - trec.encoding is not set; resorting to platform default (ISO-8859-1). Retrieval may be platform dependent. Recommend trec.encoding=UTF-8\n"
     ]
    },
    {
     "data": {
      "application/vnd.jupyter.widget-view+json": {
       "model_id": "022e6a0461264da8929d377ec3c4b734",
       "version_major": 2,
       "version_minor": 0
      },
      "text/plain": [
       "HBox(children=(FloatProgress(value=0.0, description='BR(DPH)', max=43.0, style=ProgressStyle(description_width…"
      ]
     },
     "metadata": {},
     "output_type": "display_data"
    },
    {
     "name": "stdout",
     "output_type": "stream",
     "text": [
      "\n"
     ]
    },
    {
     "data": {
      "application/vnd.jupyter.widget-view+json": {
       "model_id": "71ca9430a1b447fe9732a1c23c40532d",
       "version_major": 2,
       "version_minor": 0
      },
      "text/plain": [
       "HBox(children=(FloatProgress(value=0.0, description='BR(DPH)', max=43.0, style=ProgressStyle(description_width…"
      ]
     },
     "metadata": {},
     "output_type": "display_data"
    },
    {
     "name": "stdout",
     "output_type": "stream",
     "text": [
      "\n"
     ]
    },
    {
     "data": {
      "application/vnd.jupyter.widget-view+json": {
       "model_id": "05a71519ef8b47edb441becc5cf45ebf",
       "version_major": 2,
       "version_minor": 0
      },
      "text/plain": [
       "HBox(children=(FloatProgress(value=0.0, description='BERTQE', max=43.0, style=ProgressStyle(description_width=…"
      ]
     },
     "metadata": {},
     "output_type": "display_data"
    },
    {
     "name": "stdout",
     "output_type": "stream",
     "text": [
      "\n"
     ]
    },
    {
     "data": {
      "text/html": [
       "<div>\n",
       "<style scoped>\n",
       "    .dataframe tbody tr th:only-of-type {\n",
       "        vertical-align: middle;\n",
       "    }\n",
       "\n",
       "    .dataframe tbody tr th {\n",
       "        vertical-align: top;\n",
       "    }\n",
       "\n",
       "    .dataframe thead th {\n",
       "        text-align: right;\n",
       "    }\n",
       "</style>\n",
       "<table border=\"1\" class=\"dataframe\">\n",
       "  <thead>\n",
       "    <tr style=\"text-align: right;\">\n",
       "      <th></th>\n",
       "      <th>name</th>\n",
       "      <th>map</th>\n",
       "      <th>ndcg_cut_10</th>\n",
       "      <th>map +</th>\n",
       "      <th>map -</th>\n",
       "      <th>map p-value</th>\n",
       "      <th>ndcg_cut_10 +</th>\n",
       "      <th>ndcg_cut_10 -</th>\n",
       "      <th>ndcg_cut_10 p-value</th>\n",
       "    </tr>\n",
       "  </thead>\n",
       "  <tbody>\n",
       "    <tr>\n",
       "      <th>0</th>\n",
       "      <td>DPH</td>\n",
       "      <td>0.111070</td>\n",
       "      <td>0.502513</td>\n",
       "      <td>NaN</td>\n",
       "      <td>NaN</td>\n",
       "      <td>NaN</td>\n",
       "      <td>NaN</td>\n",
       "      <td>NaN</td>\n",
       "      <td>NaN</td>\n",
       "    </tr>\n",
       "    <tr>\n",
       "      <th>1</th>\n",
       "      <td>DPH &gt;&gt; BERT_QE</td>\n",
       "      <td>0.108519</td>\n",
       "      <td>0.499562</td>\n",
       "      <td>11.0</td>\n",
       "      <td>19.0</td>\n",
       "      <td>0.597111</td>\n",
       "      <td>19.0</td>\n",
       "      <td>19.0</td>\n",
       "      <td>0.809695</td>\n",
       "    </tr>\n",
       "  </tbody>\n",
       "</table>\n",
       "</div>"
      ],
      "text/plain": [
       "             name       map  ndcg_cut_10  map +  map -  map p-value  \\\n",
       "0             DPH  0.111070     0.502513    NaN    NaN          NaN   \n",
       "1  DPH >> BERT_QE  0.108519     0.499562   11.0   19.0     0.597111   \n",
       "\n",
       "   ndcg_cut_10 +  ndcg_cut_10 -  ndcg_cut_10 p-value  \n",
       "0            NaN            NaN                  NaN  \n",
       "1           19.0           19.0             0.809695  "
      ]
     },
     "execution_count": 8,
     "metadata": {},
     "output_type": "execute_result"
    }
   ],
   "source": [
    "# there are 200 topics, but only 43 appear in the qrels; lets shortcut down to just those topcis with correspoding qrels.\n",
    "topics_with_judgements = dataset.get_topics(\"test-2019\").merge(dataset.get_qrels(\"test-2019\")[[\"qid\"]], on=\"qid\").drop_duplicates()\n",
    "\n",
    "pt.Experiment(\n",
    "    [DPH, pipe1], \n",
    "    topics_with_judgements, \n",
    "    dataset.get_qrels(\"test-2019\"), \n",
    "    eval_metrics=[\"map\", \"ndcg_cut_10\"],\n",
    "    names=[\"DPH\", \"DPH >> BERT_QE\"],\n",
    "    baseline=0\n",
    ")"
   ]
  },
  {
   "cell_type": "markdown",
   "metadata": {},
   "source": [
    "So, according to this experiment, there was no overall improvement, *on average*, for MAP and NDCG@10, on the MSMARCO passage ranking dataset, but a number of queries were improved as well as degraded. In particular, for NDCG@10, 19 queries were improved and 19 were degraded. In short, there was no significant difference ($p=0.59$ for MAP, $p=0.81$ for NDCG@10).\n",
    "\n",
    "However, overall, these results are promising, as the full implementation of the BERT-QE paper has not been demonstrated. In particular,\n",
    " - Equation (a) and the equation in the appendix need to be both integrated and checked\n",
    " - The role of qc_scores is not yet fully understood.\n",
    " - Results should be replicated for Robust04 and GOV2 datasets"
   ]
  },
  {
   "cell_type": "code",
   "execution_count": null,
   "metadata": {},
   "outputs": [],
   "source": []
  }
 ],
 "metadata": {
  "kernelspec": {
   "display_name": "Python 3.6.10 64-bit ('pyterrier': conda)",
   "language": "python",
   "name": "python361064bitpyterrierconda2550cc82fe7e4dc19fc8c7ff9b19f0df"
  },
  "language_info": {
   "codemirror_mode": {
    "name": "ipython",
    "version": 3
   },
   "file_extension": ".py",
   "mimetype": "text/x-python",
   "name": "python",
   "nbconvert_exporter": "python",
   "pygments_lexer": "ipython3",
   "version": "3.6.10"
  }
 },
 "nbformat": 4,
 "nbformat_minor": 4
}
